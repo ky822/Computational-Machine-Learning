{
 "cells": [
  {
   "cell_type": "code",
   "execution_count": 377,
   "metadata": {
    "collapsed": true
   },
   "outputs": [],
   "source": [
    "import numpy as np\n",
    "import random\n",
    "import matplotlib.pyplot as plt\n",
    "from sklearn.cross_validation import train_test_split\n",
    "%matplotlib inline"
   ]
  },
  {
   "cell_type": "markdown",
   "metadata": {},
   "source": [
    "###Re-centering & re-normalization"
   ]
  },
  {
   "cell_type": "code",
   "execution_count": 405,
   "metadata": {
    "collapsed": false
   },
   "outputs": [],
   "source": [
    "# Re-center and re-normalize the training and testing set\n",
    "\n",
    "def normalize(train,test):\n",
    "    rmax = train.max(axis=0)\n",
    "    rmin = train.min(axis=0)\n",
    "    train_normalized = (train - rmin)/(rmax-rmin)\n",
    "    test_normalized = (test - rmin)/(rmax-rmin)\n",
    "    return train_normalized, test_normalized"
   ]
  },
  {
   "cell_type": "markdown",
   "metadata": {},
   "source": [
    "## 2.1.2  Analytic expressions"
   ]
  },
  {
   "cell_type": "code",
   "execution_count": 157,
   "metadata": {
    "collapsed": false
   },
   "outputs": [],
   "source": [
    "def compute_obj(X,y,w,h,C):\n",
    "    n = X.shape[0]\n",
    "    mask_1 = X.dot(w)*y > 1+h\n",
    "    mask_2 = abs(1-X.dot(w)*y) <= h\n",
    "    mask_3 = X.dot(w)*y < 1-h\n",
    "    #print X[mask_2].shape[0]+X[mask_1].shape[0]+X[mask_3].shape[0]\n",
    "    #print X[mask_3].shape\n",
    "    loss = w.dot(w) + C*(X[mask_2].dot(w)-(1+h)*y[mask_2]).dot(X[mask_2].dot(w)-(1+h)*y[mask_2])/(4*n*h) + C/n*(X[mask_3].shape[0]) - C*(X[mask_3].dot(w)).dot(y[mask_3])/n\n",
    "    return loss"
   ]
  },
  {
   "cell_type": "code",
   "execution_count": 173,
   "metadata": {
    "collapsed": true
   },
   "outputs": [],
   "source": [
    "def compute_grad(X,y,w,h,C):\n",
    "    n = X.shape[0]\n",
    "    zero = np.zeros(w.shape[0])\n",
    "    mask_1 = X.dot(w)*y > 1+h\n",
    "    mask_2 = abs(1-X.dot(w)*y) <= h\n",
    "    mask_3 = X.dot(w)*y < 1-h   \n",
    "    #print C*X[mask_3].T.dot(y[mask_3])/n\n",
    "    #print C*X[mask_2].dot((X[mask_2].dot(w)-(1+h)*y[mask_2]))/(2*n*h)\n",
    "    grad = 2*w + C*np.dot(X[mask_2].T,X[mask_2].dot(w)-(1+h)*y[mask_2])/(2*n*h) - C*X[mask_3].T.dot(y[mask_3])/n\n",
    "    return grad"
   ]
  },
  {
   "cell_type": "code",
   "execution_count": 546,
   "metadata": {
    "collapsed": false
   },
   "outputs": [],
   "source": [
    "# Gradient Checker\n",
    "\n",
    "def grad_checker(X,y,w,h,C,eps=0.01,tolerance=1e-4):\n",
    "    true_gradient = compute_grad(X,y,w,h,C)\n",
    "    num_features = w.shape[0]\n",
    "    approx_grad = np.zeros(num_features)\n",
    "    for d in xrange(num_features):\n",
    "        e = np.array([1 if i==d else 0 for i in xrange(num_features)])\n",
    "        loss_plus = compute_obj(X,y,w+eps*e,h,C)\n",
    "        loss_minus = compute_obj(X,y,w-eps*e,h,C)\n",
    "        approx_grad[d] = (loss_plus+loss_minus)/(2*eps)\n",
    "    \n",
    "    Euclidean_dist = np.sqrt((true_gradient-approx_grad).T.dot(true_gradient-approx_grad))\n",
    "    if Euclidean_dist<=tolerance:\n",
    "        return True\n",
    "    return False"
   ]
  },
  {
   "cell_type": "code",
   "execution_count": 473,
   "metadata": {
    "collapsed": true
   },
   "outputs": [],
   "source": [
    "def dataset_fixed_cov():\n",
    "    '''Generate 2 Gaussians samples with the same covariance matrix'''\n",
    "    n, dim = 500, 2\n",
    "    np.random.seed(0)\n",
    "    C = np.array([[0., -0.23], [0.83, .23]])\n",
    "    X = np.r_[np.dot(np.random.randn(n, dim), C),\n",
    "              np.dot(np.random.randn(n, dim), C) + np.array([1, 1])]\n",
    "    y = np.hstack((-1*np.ones(n), np.ones(n)))\n",
    "    return X, y"
   ]
  },
  {
   "cell_type": "code",
   "execution_count": 505,
   "metadata": {
    "collapsed": false
   },
   "outputs": [],
   "source": [
    "X,y = dataset_fixed_cov()\n",
    "\n",
    "#X_design = np.hstack((X,y.reshape(X.shape[0],1)))\n",
    "#random.shuffle(X_n)\n",
    "#X_train,X_test,y_train,y_test = X_design[:800,:-1],X_design[800:,:-1],X_design[:800,-1],X_design[800:200,-1]\n",
    "#train_idx = random.sample(xrange(X.shape[0]),800)\n",
    "#test_idx = [i for i in xrange(X.shape[0]) if i not in train_idx]\n",
    "#X_train = X_n[train_idx]\n",
    "#X_test = X_n[test_idx]\n",
    "\n",
    "X_train,X_test, y_train, y_test = train_test_split(X,y,test_size=0.2)\n",
    "X_train_normalized,X_test_normalized = normalize(X_train,X_test)\n",
    "X_train_normalized = np.hstack((X_train_normalized,np.ones(X_train.shape[0]).reshape(X_train.shape[0],1)))\n",
    "X_test_normalized = np.hstack((X_test_normalized,np.ones(X_test.shape[0]).reshape(X_test.shape[0],1)))"
   ]
  },
  {
   "cell_type": "code",
   "execution_count": 475,
   "metadata": {
    "collapsed": false
   },
   "outputs": [
    {
     "data": {
      "text/plain": [
       "0.5"
      ]
     },
     "execution_count": 475,
     "metadata": {},
     "output_type": "execute_result"
    }
   ],
   "source": [
    "w_init = np.zeros(X.shape[1])\n",
    "compute_obj(X,y,w_init,0.05,0.5)"
   ]
  },
  {
   "cell_type": "code",
   "execution_count": 476,
   "metadata": {
    "collapsed": false,
    "scrolled": true
   },
   "outputs": [
    {
     "data": {
      "text/plain": [
       "array([-0.25632644, -0.24673575])"
      ]
     },
     "execution_count": 476,
     "metadata": {},
     "output_type": "execute_result"
    }
   ],
   "source": [
    "compute_grad(X,y,w_init,0.05,0.5)"
   ]
  },
  {
   "cell_type": "code",
   "execution_count": 527,
   "metadata": {
    "collapsed": false
   },
   "outputs": [],
   "source": [
    "# Gradient Descent\n",
    "\n",
    "w_init = np.zeros(X_train_normalized.shape[1])\n",
    "\n",
    "def my_gradient_descent(X,y,w,epsilon,ita,h=0.05,C=1.0,max_iter=1000):\n",
    "    grad = compute_grad(X,y,w,h,C)\n",
    "    obj = compute_obj(X,y,w,h,C)\n",
    "    #misclassification = []\n",
    "    w_update = w - ita*(grad/np.sqrt(grad.dot(grad)))\n",
    "    obj_update = compute_obj(X,y,w_update,h,C)\n",
    "    grad_update = compute_grad(X,y,w_update,h,C)\n",
    "    diff = abs(obj_update - obj)\n",
    "    #misclassification.append(sum((y_train*X_train_normalized.dot(w_update)<0))/len(X_train_normalized))\n",
    "    obj_list = [obj,obj_update]\n",
    "    w_list = [w,w_update]\n",
    "    while (max_iter>1) and (diff >= epsilon):\n",
    "        obj = obj_update\n",
    "        w_update = w_update - ita*(grad_update/np.sqrt(grad_update.dot(grad_update)))\n",
    "        obj_update = compute_obj(X,y,w_update,h,C)\n",
    "        grad_update = compute_grad(X,y,w_update,h,C)\n",
    "        diff = abs(obj_update - obj)\n",
    "        obj_list.append(obj_update)\n",
    "        w_list.append(w_update)\n",
    "        \n",
    "        max_iter -= 1\n",
    "    return w_list[-1],obj_update,obj_list,w_list"
   ]
  },
  {
   "cell_type": "code",
   "execution_count": 528,
   "metadata": {
    "collapsed": true
   },
   "outputs": [],
   "source": [
    "# Implement Linear SVM with huberized hinge loss using gradient descent algorithm\n",
    "\n",
    "def my_svm(X,y,w,epsilon,ita,h=0.05,C=1.0,max_iter=1000):\n",
    "    w_update,obj_update,obj_list,w_list = my_gradient_descent(X,y,w,epsilon,ita,h=0.05,C=1.0,max_iter=1000)\n",
    "    return w_update,obj_update,obj_list,w_list"
   ]
  },
  {
   "cell_type": "code",
   "execution_count": 529,
   "metadata": {
    "collapsed": false
   },
   "outputs": [],
   "source": [
    "w_update,obj_update,obj_list,w_list = my_svm(X_train_normalized,y_train,w_init,epsilon=1e-5,ita=0.01*1.1**3,h=0.05,C=1.0,max_iter=1000)"
   ]
  },
  {
   "cell_type": "code",
   "execution_count": 530,
   "metadata": {
    "collapsed": false
   },
   "outputs": [
    {
     "name": "stdout",
     "output_type": "stream",
     "text": [
      "0.989389701562 0.997433619995\n"
     ]
    }
   ],
   "source": [
    "print obj_list[-1],obj_list[1]"
   ]
  },
  {
   "cell_type": "code",
   "execution_count": 531,
   "metadata": {
    "collapsed": false
   },
   "outputs": [],
   "source": [
    "#ita_list = [0.01,0.1*1.1,0.1*1.1**3,0.1*1.1**5,1]\n",
    "ita_list = [0.1*1.1,0.1*1.1**2,0.1*1.1**3,0.1*1.1**4,0.1*1.1**5]"
   ]
  },
  {
   "cell_type": "code",
   "execution_count": 532,
   "metadata": {
    "collapsed": false
   },
   "outputs": [
    {
     "data": {
      "text/plain": [
       "[0.11000000000000001,\n",
       " 0.12100000000000002,\n",
       " 0.13310000000000005,\n",
       " 0.14641000000000004,\n",
       " 0.16105100000000006]"
      ]
     },
     "execution_count": 532,
     "metadata": {},
     "output_type": "execute_result"
    }
   ],
   "source": [
    "ita_list"
   ]
  },
  {
   "cell_type": "code",
   "execution_count": 533,
   "metadata": {
    "collapsed": false
   },
   "outputs": [
    {
     "data": {
      "text/plain": [
       "array([[ 0.64749539,  0.67124566,  1.        ],\n",
       "       [ 0.42204924,  0.26197748,  1.        ],\n",
       "       [ 0.45668086,  0.6615314 ,  1.        ],\n",
       "       ..., \n",
       "       [ 0.47160955,  0.57562792,  1.        ],\n",
       "       [ 0.68157699,  0.60670797,  1.        ],\n",
       "       [ 0.82418253,  0.88329045,  1.        ]])"
      ]
     },
     "execution_count": 533,
     "metadata": {},
     "output_type": "execute_result"
    }
   ],
   "source": [
    "X_train_normalized"
   ]
  },
  {
   "cell_type": "markdown",
   "metadata": {},
   "source": [
    "et the separating hyperplane w = np.dot(clf.coef_[0], clf.support_) a = -w[0]/w[1] xx = np.linspace(-5, 5) yy = a*xx + (clf.rho_[0])/w[1] # plot the paralels to the separating hyperplane that pass through the # support vectors b = clf.support_[0] yy_down = a*xx + (b[1] - a*b[0]) b = clf.support_[-1] yy_up = a*xx + (b[1] - a*b[0]) # plot the line, the points, and the nearest vectors to the plane pl.set_cmap(pl.cm.Paired) pl.plot(xx, yy, 'k-') pl.plot(xx, yy_down, 'k--') pl.plot(xx, yy_up, 'k--') pl.scatter(X[:,0], X[:,1], c=Y) pl.scatter(clf.support_[:,0], clf.support_[:,1], marker='+') pl.axis('tight') pl.show() [/cc] And the result is"
   ]
  },
  {
   "cell_type": "code",
   "execution_count": 534,
   "metadata": {
    "collapsed": false
   },
   "outputs": [
    {
     "data": {
      "text/plain": [
       "array([ 0.05320156,  0.09150132,  0.01162299])"
      ]
     },
     "execution_count": 534,
     "metadata": {},
     "output_type": "execute_result"
    }
   ],
   "source": [
    "w_update"
   ]
  },
  {
   "cell_type": "code",
   "execution_count": 535,
   "metadata": {
    "collapsed": true
   },
   "outputs": [],
   "source": [
    "a = - w_update[0] / w_update[1]"
   ]
  },
  {
   "cell_type": "code",
   "execution_count": 536,
   "metadata": {
    "collapsed": false,
    "scrolled": false
   },
   "outputs": [
    {
     "data": {
      "text/plain": [
       "array([ 1., -1.,  1.,  1.,  1., -1., -1.,  1., -1., -1., -1., -1., -1.,\n",
       "       -1.,  1.,  1., -1.,  1., -1., -1., -1., -1., -1., -1.,  1.,  1.,\n",
       "        1.,  1., -1.,  1., -1.,  1.,  1.,  1., -1.,  1.,  1.,  1., -1.,\n",
       "       -1.,  1.,  1., -1.,  1.,  1.,  1.,  1.,  1.,  1., -1., -1., -1.,\n",
       "        1.,  1.,  1., -1.,  1.,  1.,  1., -1.,  1.,  1.,  1., -1., -1.,\n",
       "        1.,  1.,  1.,  1.,  1., -1.,  1., -1., -1.,  1., -1., -1.,  1.,\n",
       "        1., -1.,  1.,  1.,  1., -1., -1.,  1.,  1., -1., -1., -1., -1.,\n",
       "       -1., -1.,  1.,  1., -1., -1.,  1., -1., -1.,  1., -1., -1., -1.,\n",
       "        1., -1.,  1., -1.,  1.,  1.,  1.,  1., -1., -1., -1., -1., -1.,\n",
       "       -1.,  1.,  1.,  1.,  1., -1.,  1.,  1.,  1.,  1., -1., -1.,  1.,\n",
       "       -1., -1., -1.,  1., -1.,  1.,  1.,  1.,  1., -1., -1., -1.,  1.,\n",
       "       -1., -1.,  1., -1.,  1.,  1., -1., -1., -1., -1.,  1.,  1.,  1.,\n",
       "        1.,  1.,  1., -1.,  1., -1.,  1.,  1.,  1.,  1., -1.,  1., -1.,\n",
       "        1., -1.,  1.,  1., -1.,  1.,  1.,  1.,  1.,  1.,  1., -1.,  1.,\n",
       "        1.,  1.,  1., -1., -1.,  1.,  1.,  1.,  1.,  1.,  1., -1., -1.,\n",
       "        1., -1.,  1.,  1., -1.,  1.,  1.,  1., -1., -1.,  1., -1.,  1.,\n",
       "        1.,  1.,  1.,  1.,  1., -1.,  1.,  1., -1., -1.,  1., -1.,  1.,\n",
       "        1., -1.,  1., -1.,  1.,  1., -1.,  1.,  1.,  1.,  1., -1., -1.,\n",
       "       -1., -1., -1.,  1., -1., -1., -1.,  1.,  1.,  1., -1.,  1., -1.,\n",
       "       -1., -1.,  1., -1.,  1.,  1.,  1., -1., -1.,  1., -1., -1., -1.,\n",
       "       -1., -1., -1.,  1., -1.,  1., -1., -1., -1.,  1.,  1.,  1.,  1.,\n",
       "        1.,  1.,  1., -1.,  1.,  1.,  1., -1.,  1., -1.,  1., -1., -1.,\n",
       "        1.,  1.,  1., -1.,  1., -1.,  1.,  1.,  1., -1.,  1., -1., -1.,\n",
       "        1., -1., -1.,  1.,  1., -1., -1., -1.,  1.,  1.,  1.,  1., -1.,\n",
       "       -1.,  1., -1., -1.,  1., -1., -1., -1., -1.,  1.,  1.,  1.,  1.,\n",
       "        1.,  1.,  1.,  1., -1.,  1., -1., -1., -1., -1., -1., -1., -1.,\n",
       "        1.,  1.,  1., -1.,  1., -1.,  1.,  1.,  1., -1.,  1.,  1., -1.,\n",
       "       -1., -1.,  1.,  1.,  1., -1., -1., -1.,  1.,  1.,  1.,  1.,  1.,\n",
       "       -1.,  1.,  1.,  1., -1., -1., -1., -1., -1., -1., -1.,  1.,  1.,\n",
       "        1., -1., -1., -1.,  1.,  1., -1.,  1., -1.,  1., -1.,  1.,  1.,\n",
       "        1.,  1.,  1.,  1., -1., -1., -1.,  1., -1.,  1.,  1., -1., -1.,\n",
       "       -1.,  1.,  1., -1., -1.,  1.,  1., -1., -1., -1.,  1.,  1.,  1.,\n",
       "       -1.,  1.,  1.,  1., -1., -1.,  1.,  1.,  1.,  1.,  1., -1., -1.,\n",
       "       -1., -1., -1.,  1.,  1., -1., -1., -1., -1., -1., -1.,  1.,  1.,\n",
       "        1., -1.,  1., -1.,  1.,  1., -1.,  1.,  1., -1.,  1.,  1.,  1.,\n",
       "       -1., -1., -1.,  1.,  1.,  1., -1.,  1.,  1., -1., -1., -1.,  1.,\n",
       "       -1.,  1., -1., -1.,  1., -1., -1., -1.,  1.,  1., -1.,  1.,  1.,\n",
       "       -1.,  1.,  1., -1., -1., -1., -1., -1.,  1.,  1., -1., -1.,  1.,\n",
       "       -1.,  1., -1., -1., -1.,  1., -1., -1., -1., -1., -1.,  1.,  1.,\n",
       "       -1.,  1., -1.,  1., -1., -1.,  1., -1.,  1., -1., -1.,  1., -1.,\n",
       "       -1.,  1., -1., -1.,  1., -1., -1., -1., -1.,  1., -1., -1.,  1.,\n",
       "        1., -1.,  1., -1.,  1., -1., -1., -1.,  1., -1.,  1., -1.,  1.,\n",
       "       -1., -1., -1., -1., -1.,  1.,  1., -1., -1.,  1.,  1., -1., -1.,\n",
       "       -1., -1.,  1., -1., -1., -1., -1., -1.,  1.,  1., -1., -1., -1.,\n",
       "        1.,  1., -1., -1.,  1.,  1., -1., -1.,  1., -1.,  1.,  1., -1.,\n",
       "        1., -1.,  1.,  1., -1., -1.,  1., -1.,  1.,  1., -1., -1.,  1.,\n",
       "       -1., -1., -1.,  1., -1.,  1.,  1., -1.,  1.,  1., -1.,  1., -1.,\n",
       "        1.,  1.,  1., -1., -1.,  1., -1., -1., -1., -1.,  1.,  1.,  1.,\n",
       "        1., -1.,  1., -1., -1., -1.,  1.,  1.,  1.,  1.,  1.,  1.,  1.,\n",
       "        1.,  1., -1., -1., -1.,  1., -1.,  1., -1.,  1., -1.,  1., -1.,\n",
       "        1., -1.,  1., -1.,  1.,  1.,  1., -1.,  1., -1.,  1., -1.,  1.,\n",
       "        1., -1., -1., -1., -1., -1.,  1.,  1., -1., -1.,  1.,  1., -1.,\n",
       "       -1.,  1., -1.,  1.,  1., -1., -1., -1., -1.,  1.,  1., -1., -1.,\n",
       "       -1.,  1., -1., -1.,  1.,  1., -1.,  1., -1., -1.,  1., -1., -1.,\n",
       "       -1.,  1.,  1., -1.,  1., -1., -1., -1., -1., -1., -1., -1., -1.,\n",
       "       -1.,  1., -1., -1.,  1.,  1.,  1., -1., -1., -1.,  1., -1., -1.,\n",
       "        1.,  1.,  1., -1., -1.,  1., -1., -1.,  1.,  1.,  1.,  1., -1.,\n",
       "        1.,  1.,  1.,  1.,  1., -1.,  1.,  1., -1.,  1.,  1.,  1.,  1.,\n",
       "       -1.,  1., -1., -1.,  1., -1.,  1., -1.,  1., -1.,  1.,  1.,  1.,\n",
       "        1.,  1.,  1., -1.,  1., -1., -1.,  1.,  1.,  1.,  1.,  1., -1.,\n",
       "        1., -1.,  1., -1.,  1., -1., -1.,  1., -1.,  1., -1., -1., -1.,\n",
       "        1.,  1., -1., -1.,  1.,  1.,  1.])"
      ]
     },
     "execution_count": 536,
     "metadata": {},
     "output_type": "execute_result"
    }
   ],
   "source": [
    "y_train"
   ]
  },
  {
   "cell_type": "code",
   "execution_count": 537,
   "metadata": {
    "collapsed": false
   },
   "outputs": [
    {
     "data": {
      "text/plain": [
       "0.48875"
      ]
     },
     "execution_count": 537,
     "metadata": {},
     "output_type": "execute_result"
    }
   ],
   "source": [
    "# misclassificaiton error\n",
    "\n",
    "1.0*sum((y_train*X_train_normalized.dot(w_update)<0))/len(X_train_normalized)"
   ]
  },
  {
   "cell_type": "code",
   "execution_count": 538,
   "metadata": {
    "collapsed": false
   },
   "outputs": [
    {
     "data": {
      "text/plain": [
       "0.95999999999999996"
      ]
     },
     "execution_count": 538,
     "metadata": {},
     "output_type": "execute_result"
    }
   ],
   "source": [
    "from sklearn.svm import LinearSVC\n",
    "\n",
    "lin_clf = LinearSVC()\n",
    "lin_clf.fit(X_train_normalized,y_train)  \n",
    "lin_clf.score(X_test_normalized,y_test)"
   ]
  },
  {
   "cell_type": "code",
   "execution_count": 539,
   "metadata": {
    "collapsed": false
   },
   "outputs": [
    {
     "data": {
      "text/plain": [
       "<matplotlib.legend.Legend at 0x1100d3950>"
      ]
     },
     "execution_count": 539,
     "metadata": {},
     "output_type": "execute_result"
    },
    {
     "data": {
      "image/png": "[encoded data removed]",
      "text/plain": [
       "<matplotlib.figure.Figure at 0x10f693cd0>"
      ]
     },
     "metadata": {},
     "output_type": "display_data"
    }
   ],
   "source": [
    "# My-SVM\n",
    "\n",
    "fig = plt.figure(facecolor='white',figsize=(15,10))\n",
    "fig.suptitle('My-SVM Explorating Plots',fontsize=14, fontweight='bold')\n",
    "fig.subplots_adjust(top=0.9)\n",
    "\n",
    "ax0 = fig.add_subplot(221)\n",
    "ax0.set_title('Objective Function vs Iterations',fontsize=10,fontweight='bold')\n",
    "ax0.plot(xrange(len(obj_list)),obj_list,label='training_loss',lw=2,color='b')\n",
    "ax0.set_xlabel('Iterations',fontsize=12)\n",
    "ax0.set_ylabel('Objective Function (training loss)',fontsize=12)\n",
    "ax0.legend(prop={'size':10},loc='upper right', fancybox=True, shadow=True, ncol=3)\n",
    "\n",
    "ax1 = fig.add_subplot(222)\n",
    "ax1.set_title('Zoom in: Objective Function vs Iterations',fontsize=10,fontweight='bold')\n",
    "ax1.plot(xrange(len(obj_list)),obj_list,label='training_loss',lw=2,color='b')\n",
    "ax1.set_xlabel('Iterations',fontsize=12)\n",
    "ax1.set_xlim(0,100)\n",
    "ax1.set_ylabel('Objective Function (training loss)',fontsize=12)\n",
    "ax1.legend(prop={'size':10},loc='upper right', fancybox=True, shadow=True, ncol=3)\n",
    "\n",
    "ax2 = fig.add_subplot(223)\n",
    "ax2.set_title('Misclassification Error vs Iterations',fontsize=10,fontweight='bold')\n",
    "ax2.plot(xrange(len(obj_list)),obj_list,label='misclassification error',lw=2,color='r')\n",
    "ax2.set_xlabel('Iterations',fontsize=12)\n",
    "ax2.set_ylabel('Misclassification Error',fontsize=12)\n",
    "ax2.legend(prop={'size':10},loc='upper right', fancybox=True, shadow=True, ncol=3)"
   ]
  },
  {
   "cell_type": "code",
   "execution_count": 540,
   "metadata": {
    "collapsed": false
   },
   "outputs": [
    {
     "data": {
      "text/plain": [
       "0.39100000000000001"
      ]
     },
     "execution_count": 540,
     "metadata": {},
     "output_type": "execute_result"
    }
   ],
   "source": [
    "sum((y_train*X_train_normalized.dot(w_update)<0))/1000.0"
   ]
  },
  {
   "cell_type": "code",
   "execution_count": null,
   "metadata": {
    "collapsed": true
   },
   "outputs": [],
   "source": []
  }
 ],
 "metadata": {
  "kernelspec": {
   "display_name": "Python 2",
   "language": "python",
   "name": "python2"
  },
  "language_info": {
   "codemirror_mode": {
    "name": "ipython",
    "version": 2
   },
   "file_extension": ".py",
   "mimetype": "text/x-python",
   "name": "python",
   "nbconvert_exporter": "python",
   "pygments_lexer": "ipython2",
   "version": "2.7.10"
  }
 },
 "nbformat": 4,
 "nbformat_minor": 0
}
